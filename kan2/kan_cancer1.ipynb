{
 "cells": [
  {
   "cell_type": "markdown",
   "id": "90d5e97b",
   "metadata": {},
   "source": [
    "import models"
   ]
  },
  {
   "cell_type": "code",
   "execution_count": 29,
   "id": "e1f2f3a4",
   "metadata": {},
   "outputs": [],
   "source": [
    "import pandas as pd\n",
    "from kan import *\n",
    "from kan.utils import create_dataset_from_data\n",
    "import torch\n",
    "from sklearn.preprocessing import LabelEncoder\n",
    "from sklearn.metrics import accuracy_score"
   ]
  },
  {
   "cell_type": "markdown",
   "id": "5b062edd",
   "metadata": {},
   "source": [
    "load data"
   ]
  },
  {
   "cell_type": "code",
   "execution_count": 30,
   "id": "1faba319",
   "metadata": {},
   "outputs": [],
   "source": [
    "df_masstrain = pd.read_csv('csv/pyradiomics_mass_train.csv')\n",
    "df_masstest = pd.read_csv('csv/pyradiomics_mass_test.csv')\n",
    "df_calctrain = pd.read_csv('csv/pyradiomics_calc_train.csv')\n",
    "df_calctest = pd.read_csv('csv/pyradiomics_calc_test.csv')"
   ]
  },
  {
   "cell_type": "code",
   "execution_count": 31,
   "id": "bcf46328",
   "metadata": {},
   "outputs": [
    {
     "name": "stdout",
     "output_type": "stream",
     "text": [
      "(1450, 66)\n",
      "(384, 66)\n",
      "(1574, 66)\n",
      "(311, 66)\n"
     ]
    }
   ],
   "source": [
    "print(df_masstrain.shape)\n",
    "print(df_masstest.shape)\n",
    "print(df_calctrain.shape)\n",
    "print(df_calctest.shape)"
   ]
  },
  {
   "cell_type": "markdown",
   "id": "bf505e1d",
   "metadata": {},
   "source": [
    "print column names"
   ]
  },
  {
   "cell_type": "code",
   "execution_count": 32,
   "id": "0b62f046",
   "metadata": {},
   "outputs": [
    {
     "name": "stdout",
     "output_type": "stream",
     "text": [
      "Index(['patient_id', 'breast_density', 'left_or_right_breast', 'image_view',\n",
      "       'abnormality_id', 'abnormality_type', 'mass_shape', 'mass_margins',\n",
      "       'assessment', 'pathology', 'subtlety', 'image_file_path',\n",
      "       'cropped_image_file_path', 'ROI_mask_file_path',\n",
      "       'original_shape2D_Elongation', 'original_shape2D_MajorAxisLength',\n",
      "       'original_shape2D_MaximumDiameter', 'original_shape2D_MeshSurface',\n",
      "       'original_shape2D_MinorAxisLength', 'original_shape2D_Perimeter',\n",
      "       'original_shape2D_PerimeterSurfaceRatio',\n",
      "       'original_shape2D_PixelSurface', 'original_shape2D_Sphericity',\n",
      "       'original_firstorder_10Percentile', 'original_firstorder_90Percentile',\n",
      "       'original_firstorder_Energy', 'original_firstorder_Entropy',\n",
      "       'original_firstorder_InterquartileRange',\n",
      "       'original_firstorder_Kurtosis', 'original_firstorder_Maximum',\n",
      "       'original_firstorder_MeanAbsoluteDeviation', 'original_firstorder_Mean',\n",
      "       'original_firstorder_Median', 'original_firstorder_Minimum',\n",
      "       'original_firstorder_Range',\n",
      "       'original_firstorder_RobustMeanAbsoluteDeviation',\n",
      "       'original_firstorder_RootMeanSquared', 'original_firstorder_Skewness',\n",
      "       'original_firstorder_TotalEnergy', 'original_firstorder_Uniformity',\n",
      "       'original_firstorder_Variance', 'original_glcm_Autocorrelation',\n",
      "       'original_glcm_ClusterProminence', 'original_glcm_ClusterShade',\n",
      "       'original_glcm_ClusterTendency', 'original_glcm_Contrast',\n",
      "       'original_glcm_Correlation', 'original_glcm_DifferenceAverage',\n",
      "       'original_glcm_DifferenceEntropy', 'original_glcm_DifferenceVariance',\n",
      "       'original_glcm_Id', 'original_glcm_Idm', 'original_glcm_Idmn',\n",
      "       'original_glcm_Idn', 'original_glcm_Imc1', 'original_glcm_Imc2',\n",
      "       'original_glcm_InverseVariance', 'original_glcm_JointAverage',\n",
      "       'original_glcm_JointEnergy', 'original_glcm_JointEntropy',\n",
      "       'original_glcm_MCC', 'original_glcm_MaximumProbability',\n",
      "       'original_glcm_SumAverage', 'original_glcm_SumEntropy',\n",
      "       'original_glcm_SumSquares', 'image_path'],\n",
      "      dtype='object')\n",
      "Index(['patient_id', 'breast_density', 'left_or_right_breast', 'image_view',\n",
      "       'abnormality_id', 'abnormality_type', 'calc_type', 'calc_distribution',\n",
      "       'assessment', 'pathology', 'subtlety', 'image_file_path',\n",
      "       'cropped_image_file_path', 'ROI_mask_file_path',\n",
      "       'original_shape2D_Elongation', 'original_shape2D_MajorAxisLength',\n",
      "       'original_shape2D_MaximumDiameter', 'original_shape2D_MeshSurface',\n",
      "       'original_shape2D_MinorAxisLength', 'original_shape2D_Perimeter',\n",
      "       'original_shape2D_PerimeterSurfaceRatio',\n",
      "       'original_shape2D_PixelSurface', 'original_shape2D_Sphericity',\n",
      "       'original_firstorder_10Percentile', 'original_firstorder_90Percentile',\n",
      "       'original_firstorder_Energy', 'original_firstorder_Entropy',\n",
      "       'original_firstorder_InterquartileRange',\n",
      "       'original_firstorder_Kurtosis', 'original_firstorder_Maximum',\n",
      "       'original_firstorder_MeanAbsoluteDeviation', 'original_firstorder_Mean',\n",
      "       'original_firstorder_Median', 'original_firstorder_Minimum',\n",
      "       'original_firstorder_Range',\n",
      "       'original_firstorder_RobustMeanAbsoluteDeviation',\n",
      "       'original_firstorder_RootMeanSquared', 'original_firstorder_Skewness',\n",
      "       'original_firstorder_TotalEnergy', 'original_firstorder_Uniformity',\n",
      "       'original_firstorder_Variance', 'original_glcm_Autocorrelation',\n",
      "       'original_glcm_ClusterProminence', 'original_glcm_ClusterShade',\n",
      "       'original_glcm_ClusterTendency', 'original_glcm_Contrast',\n",
      "       'original_glcm_Correlation', 'original_glcm_DifferenceAverage',\n",
      "       'original_glcm_DifferenceEntropy', 'original_glcm_DifferenceVariance',\n",
      "       'original_glcm_Id', 'original_glcm_Idm', 'original_glcm_Idmn',\n",
      "       'original_glcm_Idn', 'original_glcm_Imc1', 'original_glcm_Imc2',\n",
      "       'original_glcm_InverseVariance', 'original_glcm_JointAverage',\n",
      "       'original_glcm_JointEnergy', 'original_glcm_JointEntropy',\n",
      "       'original_glcm_MCC', 'original_glcm_MaximumProbability',\n",
      "       'original_glcm_SumAverage', 'original_glcm_SumEntropy',\n",
      "       'original_glcm_SumSquares', 'image_path'],\n",
      "      dtype='object')\n"
     ]
    }
   ],
   "source": [
    "## uncomment and run cell to print\n",
    "\n",
    "print(df_masstrain.columns)\n",
    "print(df_calctest.columns)\n"
   ]
  },
  {
   "cell_type": "markdown",
   "id": "6cc946d1",
   "metadata": {},
   "source": [
    "data cleaning"
   ]
  },
  {
   "cell_type": "code",
   "execution_count": 33,
   "id": "be85ff1a",
   "metadata": {},
   "outputs": [],
   "source": [
    "## drop useless features\n",
    "\n",
    "columns=[\n",
    "    'patient_id',\n",
    "    'left_or_right_breast',\n",
    "    'abnormality_id',\n",
    "    'abnormality_type',\n",
    "\n",
    "    'image_file_path',\n",
    "    'cropped_image_file_path',\n",
    "    'ROI_mask_file_path',\n",
    "    'image_path'\n",
    "]\n",
    "\n",
    "df_masstrain.drop(columns=columns, inplace=True)\n",
    "df_masstest.drop(columns=columns, inplace=True)\n"
   ]
  },
  {
   "cell_type": "code",
   "execution_count": 34,
   "id": "c5583008",
   "metadata": {},
   "outputs": [
    {
     "data": {
      "text/html": [
       "<div>\n",
       "<style scoped>\n",
       "    .dataframe tbody tr th:only-of-type {\n",
       "        vertical-align: middle;\n",
       "    }\n",
       "\n",
       "    .dataframe tbody tr th {\n",
       "        vertical-align: top;\n",
       "    }\n",
       "\n",
       "    .dataframe thead th {\n",
       "        text-align: right;\n",
       "    }\n",
       "</style>\n",
       "<table border=\"1\" class=\"dataframe\">\n",
       "  <thead>\n",
       "    <tr style=\"text-align: right;\">\n",
       "      <th></th>\n",
       "      <th>breast_density</th>\n",
       "      <th>image_view</th>\n",
       "      <th>mass_shape</th>\n",
       "      <th>mass_margins</th>\n",
       "      <th>assessment</th>\n",
       "      <th>pathology</th>\n",
       "      <th>subtlety</th>\n",
       "      <th>original_shape2D_Elongation</th>\n",
       "      <th>original_shape2D_MajorAxisLength</th>\n",
       "      <th>original_shape2D_MaximumDiameter</th>\n",
       "      <th>...</th>\n",
       "      <th>original_glcm_Imc2</th>\n",
       "      <th>original_glcm_InverseVariance</th>\n",
       "      <th>original_glcm_JointAverage</th>\n",
       "      <th>original_glcm_JointEnergy</th>\n",
       "      <th>original_glcm_JointEntropy</th>\n",
       "      <th>original_glcm_MCC</th>\n",
       "      <th>original_glcm_MaximumProbability</th>\n",
       "      <th>original_glcm_SumAverage</th>\n",
       "      <th>original_glcm_SumEntropy</th>\n",
       "      <th>original_glcm_SumSquares</th>\n",
       "    </tr>\n",
       "  </thead>\n",
       "  <tbody>\n",
       "    <tr>\n",
       "      <th>0</th>\n",
       "      <td>3</td>\n",
       "      <td>0</td>\n",
       "      <td>4</td>\n",
       "      <td>14</td>\n",
       "      <td>4</td>\n",
       "      <td>2</td>\n",
       "      <td>4</td>\n",
       "      <td>0.846472</td>\n",
       "      <td>616.314335</td>\n",
       "      <td>502.004980</td>\n",
       "      <td>...</td>\n",
       "      <td>0.928407</td>\n",
       "      <td>0.133450</td>\n",
       "      <td>2.474573</td>\n",
       "      <td>0.312687</td>\n",
       "      <td>2.234955</td>\n",
       "      <td>0.923074</td>\n",
       "      <td>0.468822</td>\n",
       "      <td>4.949146</td>\n",
       "      <td>2.101505</td>\n",
       "      <td>0.602391</td>\n",
       "    </tr>\n",
       "    <tr>\n",
       "      <th>1</th>\n",
       "      <td>3</td>\n",
       "      <td>1</td>\n",
       "      <td>4</td>\n",
       "      <td>14</td>\n",
       "      <td>4</td>\n",
       "      <td>2</td>\n",
       "      <td>4</td>\n",
       "      <td>0.897539</td>\n",
       "      <td>309.805534</td>\n",
       "      <td>262.937255</td>\n",
       "      <td>...</td>\n",
       "      <td>0.897990</td>\n",
       "      <td>0.052693</td>\n",
       "      <td>1.547551</td>\n",
       "      <td>0.451682</td>\n",
       "      <td>1.359706</td>\n",
       "      <td>0.940436</td>\n",
       "      <td>0.524013</td>\n",
       "      <td>3.095102</td>\n",
       "      <td>1.307013</td>\n",
       "      <td>0.276766</td>\n",
       "    </tr>\n",
       "    <tr>\n",
       "      <th>2</th>\n",
       "      <td>3</td>\n",
       "      <td>0</td>\n",
       "      <td>0</td>\n",
       "      <td>4</td>\n",
       "      <td>4</td>\n",
       "      <td>0</td>\n",
       "      <td>3</td>\n",
       "      <td>0.893191</td>\n",
       "      <td>573.773997</td>\n",
       "      <td>452.636720</td>\n",
       "      <td>...</td>\n",
       "      <td>0.880520</td>\n",
       "      <td>0.074755</td>\n",
       "      <td>2.733182</td>\n",
       "      <td>0.448109</td>\n",
       "      <td>1.539641</td>\n",
       "      <td>0.932531</td>\n",
       "      <td>0.605238</td>\n",
       "      <td>5.466364</td>\n",
       "      <td>1.464885</td>\n",
       "      <td>0.288590</td>\n",
       "    </tr>\n",
       "    <tr>\n",
       "      <th>3</th>\n",
       "      <td>3</td>\n",
       "      <td>1</td>\n",
       "      <td>0</td>\n",
       "      <td>4</td>\n",
       "      <td>4</td>\n",
       "      <td>0</td>\n",
       "      <td>3</td>\n",
       "      <td>0.926594</td>\n",
       "      <td>505.193212</td>\n",
       "      <td>427.242320</td>\n",
       "      <td>...</td>\n",
       "      <td>0.728752</td>\n",
       "      <td>0.027876</td>\n",
       "      <td>1.125884</td>\n",
       "      <td>0.753309</td>\n",
       "      <td>0.707630</td>\n",
       "      <td>0.873908</td>\n",
       "      <td>0.860178</td>\n",
       "      <td>2.251769</td>\n",
       "      <td>0.679754</td>\n",
       "      <td>0.109852</td>\n",
       "    </tr>\n",
       "    <tr>\n",
       "      <th>4</th>\n",
       "      <td>3</td>\n",
       "      <td>1</td>\n",
       "      <td>12</td>\n",
       "      <td>0</td>\n",
       "      <td>4</td>\n",
       "      <td>0</td>\n",
       "      <td>5</td>\n",
       "      <td>0.840487</td>\n",
       "      <td>542.354168</td>\n",
       "      <td>441.072556</td>\n",
       "      <td>...</td>\n",
       "      <td>0.939958</td>\n",
       "      <td>0.040505</td>\n",
       "      <td>2.847048</td>\n",
       "      <td>0.427190</td>\n",
       "      <td>1.576505</td>\n",
       "      <td>0.980083</td>\n",
       "      <td>0.586644</td>\n",
       "      <td>5.694097</td>\n",
       "      <td>1.536000</td>\n",
       "      <td>0.374897</td>\n",
       "    </tr>\n",
       "  </tbody>\n",
       "</table>\n",
       "<p>5 rows × 58 columns</p>\n",
       "</div>"
      ],
      "text/plain": [
       "   breast_density  image_view  mass_shape  mass_margins  assessment   \n",
       "0               3           0           4            14           4  \\\n",
       "1               3           1           4            14           4   \n",
       "2               3           0           0             4           4   \n",
       "3               3           1           0             4           4   \n",
       "4               3           1          12             0           4   \n",
       "\n",
       "   pathology  subtlety  original_shape2D_Elongation   \n",
       "0          2         4                     0.846472  \\\n",
       "1          2         4                     0.897539   \n",
       "2          0         3                     0.893191   \n",
       "3          0         3                     0.926594   \n",
       "4          0         5                     0.840487   \n",
       "\n",
       "   original_shape2D_MajorAxisLength  original_shape2D_MaximumDiameter  ...   \n",
       "0                        616.314335                        502.004980  ...  \\\n",
       "1                        309.805534                        262.937255  ...   \n",
       "2                        573.773997                        452.636720  ...   \n",
       "3                        505.193212                        427.242320  ...   \n",
       "4                        542.354168                        441.072556  ...   \n",
       "\n",
       "   original_glcm_Imc2  original_glcm_InverseVariance   \n",
       "0            0.928407                       0.133450  \\\n",
       "1            0.897990                       0.052693   \n",
       "2            0.880520                       0.074755   \n",
       "3            0.728752                       0.027876   \n",
       "4            0.939958                       0.040505   \n",
       "\n",
       "   original_glcm_JointAverage  original_glcm_JointEnergy   \n",
       "0                    2.474573                   0.312687  \\\n",
       "1                    1.547551                   0.451682   \n",
       "2                    2.733182                   0.448109   \n",
       "3                    1.125884                   0.753309   \n",
       "4                    2.847048                   0.427190   \n",
       "\n",
       "   original_glcm_JointEntropy  original_glcm_MCC   \n",
       "0                    2.234955           0.923074  \\\n",
       "1                    1.359706           0.940436   \n",
       "2                    1.539641           0.932531   \n",
       "3                    0.707630           0.873908   \n",
       "4                    1.576505           0.980083   \n",
       "\n",
       "   original_glcm_MaximumProbability  original_glcm_SumAverage   \n",
       "0                          0.468822                  4.949146  \\\n",
       "1                          0.524013                  3.095102   \n",
       "2                          0.605238                  5.466364   \n",
       "3                          0.860178                  2.251769   \n",
       "4                          0.586644                  5.694097   \n",
       "\n",
       "   original_glcm_SumEntropy  original_glcm_SumSquares  \n",
       "0                  2.101505                  0.602391  \n",
       "1                  1.307013                  0.276766  \n",
       "2                  1.464885                  0.288590  \n",
       "3                  0.679754                  0.109852  \n",
       "4                  1.536000                  0.374897  \n",
       "\n",
       "[5 rows x 58 columns]"
      ]
     },
     "execution_count": 34,
     "metadata": {},
     "output_type": "execute_result"
    }
   ],
   "source": [
    "# Columns to encode\n",
    "cols_to_encode = ['image_view', 'mass_shape', 'mass_margins', 'pathology']\n",
    "label_encoders = {}\n",
    "\n",
    "# Create a copy to keep things clean\n",
    "df_encoded_train = df_masstrain.copy()\n",
    "df_encoded_test = df_masstest.copy()\n",
    "\n",
    "for col in cols_to_encode:\n",
    "    le = LabelEncoder()\n",
    "    df_encoded_train[col] = le.fit_transform(df_encoded_train[col])\n",
    "    df_encoded_test[col] = le.fit_transform(df_encoded_test[col])\n",
    "    label_encoders[col] = le\n",
    "\n",
    "df_encoded_train.head()"
   ]
  },
  {
   "cell_type": "markdown",
   "id": "5ec8ea19",
   "metadata": {},
   "source": [
    "inspect categorical feature encodings"
   ]
  },
  {
   "cell_type": "code",
   "execution_count": 35,
   "id": "f1364c3a",
   "metadata": {},
   "outputs": [
    {
     "name": "stdout",
     "output_type": "stream",
     "text": [
      "Encoding for image_view: {'CC': 0, 'MLO': 1}\n",
      "Encoding for mass_shape: {'ARCHITECTURAL_DISTORTION': 0, 'ASYMMETRIC_BREAST_TISSUE': 1, 'FOCAL_ASYMMETRIC_DENSITY': 2, 'IRREGULAR': 3, 'IRREGULAR-ARCHITECTURAL_DISTORTION': 4, 'IRREGULAR-ASYMMETRIC_BREAST_TISSUE': 5, 'LOBULATED': 6, 'LOBULATED-IRREGULAR': 7, 'LOBULATED-LYMPH_NODE': 8, 'LYMPH_NODE': 9, 'OVAL': 10, 'OVAL-LOBULATED': 11, 'ROUND': 12}\n",
      "Encoding for mass_margins: {'CIRCUMSCRIBED': 0, 'CIRCUMSCRIBED-ILL_DEFINED': 1, 'CIRCUMSCRIBED-MICROLOBULATED': 2, 'CIRCUMSCRIBED-MICROLOBULATED-ILL_DEFINED': 3, 'CIRCUMSCRIBED-OBSCURED': 4, 'CIRCUMSCRIBED-OBSCURED-ILL_DEFINED': 5, 'CIRCUMSCRIBED-SPICULATED': 6, 'ILL_DEFINED': 7, 'ILL_DEFINED-SPICULATED': 8, 'MICROLOBULATED': 9, 'MICROLOBULATED-ILL_DEFINED': 10, 'OBSCURED': 11, 'OBSCURED-CIRCUMSCRIBED': 12, 'OBSCURED-ILL_DEFINED': 13, 'OBSCURED-ILL_DEFINED-SPICULATED': 14, 'SPICULATED': 15}\n",
      "Encoding for pathology: {'BENIGN': 0, 'BENIGN_WITHOUT_CALLBACK': 1, 'MALIGNANT': 2}\n"
     ]
    }
   ],
   "source": [
    "for col in cols_to_encode:\n",
    "    le = label_encoders[col]\n",
    "    mapping = dict(zip(le.classes_, le.transform(le.classes_)))\n",
    "    print(f\"Encoding for {col}: {mapping}\")"
   ]
  },
  {
   "cell_type": "markdown",
   "id": "3b7cd432",
   "metadata": {},
   "source": [
    "convert to tensor"
   ]
  },
  {
   "cell_type": "code",
   "execution_count": 36,
   "id": "08f6d23f",
   "metadata": {},
   "outputs": [
    {
     "name": "stdout",
     "output_type": "stream",
     "text": [
      "cuda\n"
     ]
    }
   ],
   "source": [
    "device = torch.device('cuda' if torch.cuda.is_available() else 'cpu')\n",
    "# device = 'cpu'\n",
    "print(device)"
   ]
  },
  {
   "cell_type": "code",
   "execution_count": 37,
   "id": "2f1ed580",
   "metadata": {},
   "outputs": [
    {
     "name": "stdout",
     "output_type": "stream",
     "text": [
      "Training set shape: torch.Size([1450, 56]) torch.Size([1450])\n",
      "Test set shape: torch.Size([384, 56]) torch.Size([384])\n"
     ]
    }
   ],
   "source": [
    "X_train = df_encoded_train.drop(columns=[\"assessment\", \"pathology\"]).values.astype(np.float64)\n",
    "y_train = df_encoded_train[\"pathology\"].values  # Target variable\n",
    "\n",
    "X_test = df_encoded_test.drop(columns=[\"assessment\", \"pathology\"]).values.astype(np.float64)\n",
    "y_test = df_encoded_test[\"pathology\"].values  # Target variable\n",
    "\n",
    "\n",
    "X_train_tensor = torch.tensor(X_train, dtype=torch.float64).to(device)\n",
    "X_test_tensor = torch.tensor(X_test, dtype=torch.float64).to(device)\n",
    "y_train_tensor = torch.tensor(y_train, dtype=torch.float64).to(device)\n",
    "y_test_tensor = torch.tensor(y_test, dtype=torch.float64).to(device)\n",
    "\n",
    "\n",
    "print(\"Training set shape:\", X_train_tensor.shape, y_train_tensor.shape)\n",
    "print(\"Test set shape:\", X_test_tensor.shape, y_test_tensor.shape)"
   ]
  },
  {
   "cell_type": "code",
   "execution_count": 38,
   "id": "91e73b78",
   "metadata": {},
   "outputs": [
    {
     "data": {
      "text/plain": [
       "56"
      ]
     },
     "execution_count": 38,
     "metadata": {},
     "output_type": "execute_result"
    }
   ],
   "source": [
    "input_dim = X_train_tensor.shape[1]\n",
    "input_dim"
   ]
  },
  {
   "cell_type": "markdown",
   "id": "54d830cc",
   "metadata": {},
   "source": [
    "hyperparameters"
   ]
  },
  {
   "cell_type": "code",
   "execution_count": 39,
   "id": "68ea0509",
   "metadata": {},
   "outputs": [
    {
     "name": "stdout",
     "output_type": "stream",
     "text": [
      "checkpoint directory created: ./model\n",
      "saving model version 0.0\n"
     ]
    }
   ],
   "source": [
    "torch.set_default_dtype(torch.float64)\n",
    "\n",
    "# create a KAN: 2D inputs, 1D output, and 5 hidden neurons. cubic spline (k=3), 5 grid intervals (grid=5).\n",
    "model = KAN(width=[input_dim,1], grid=3, k=3, seed=42, device=device)"
   ]
  },
  {
   "cell_type": "code",
   "execution_count": 40,
   "id": "b98db9d3",
   "metadata": {},
   "outputs": [
    {
     "data": {
      "text/plain": [
       "(torch.Size([1160, 56]), torch.Size([1160]))"
      ]
     },
     "execution_count": 40,
     "metadata": {},
     "output_type": "execute_result"
    }
   ],
   "source": [
    "dataset = create_dataset_from_data(X_train_tensor, y_train_tensor, device=device)\n",
    "dataset['train_input'].shape, dataset['train_label'].shape"
   ]
  },
  {
   "cell_type": "markdown",
   "id": "5e989628",
   "metadata": {},
   "source": [
    "train"
   ]
  },
  {
   "cell_type": "code",
   "execution_count": 41,
   "id": "02fa6699",
   "metadata": {},
   "outputs": [
    {
     "data": {
      "image/png": "[encoded data removed]",
      "text/plain": [
       "<Figure size 500x200 with 58 Axes>"
      ]
     },
     "metadata": {},
     "output_type": "display_data"
    }
   ],
   "source": [
    "# plot KAN at initialization\n",
    "model(dataset['train_input']);\n",
    "model.plot()"
   ]
  },
  {
   "cell_type": "code",
   "execution_count": 42,
   "id": "6959844e",
   "metadata": {},
   "outputs": [
    {
     "name": "stderr",
     "output_type": "stream",
     "text": [
      "| train_loss: 1.43e+00 | test_loss: 1.38e+00 | reg: 1.05e+01 | : 100%|█| 100/100 [00:19<00:00,  5.13\n"
     ]
    },
    {
     "name": "stdout",
     "output_type": "stream",
     "text": [
      "saving model version 0.1\n"
     ]
    }
   ],
   "source": [
    "model.fit(dataset, opt=\"LBFGS\", steps=100, lamb=0.001);"
   ]
  },
  {
   "cell_type": "code",
   "execution_count": 43,
   "id": "7ea4e47f",
   "metadata": {},
   "outputs": [],
   "source": [
    "# model = model.prune()\n",
    "# model.plot()"
   ]
  },
  {
   "cell_type": "markdown",
   "id": "b16c6c8c",
   "metadata": {},
   "source": [
    "predict"
   ]
  },
  {
   "cell_type": "code",
   "execution_count": null,
   "id": "66f3bc85",
   "metadata": {},
   "outputs": [
    {
     "data": {
      "text/plain": [
       "tensor([0, 0, 2, 1, 1, 0, 1, 1, 0, 0, 0, 1, 1, 0, 0, 0, 0, 0, 0, 0, 0, 0, 0, 1,\n",
       "        2, 2, 1, 2, 1, 1, 1, 2, 1, 0, 1, 1, 2, 2, 2, 2, 2, 0, 1, 0, 1, 1, 0, 0,\n",
       "        1, 0, 0, 2, 0, 1, 1, 0, 1, 1, 0, 0, 0, 1, 2, 1, 1, 2, 0, 0, 0, 1, 0, 0,\n",
       "        0, 1, 1, 1, 0, 0, 0, 0, 1, 1, 0, 1, 0, 0, 0, 1, 0, 0, 0, 0, 0, 0, 1, 1,\n",
       "        2, 0, 1, 0, 1, 1, 2, 0, 1, 2, 1, 0, 1, 0, 0, 1, 0, 1, 0, 1, 1, 0, 1, 1,\n",
       "        2, 2, 0, 2, 0, 0, 0, 1, 1, 1, 2, 2, 2, 2, 0, 1, 0, 2, 2, 0, 0, 2, 0, 0,\n",
       "        0, 1, 2, 0, 2, 0, 1, 1, 0, 0, 1, 2, 1, 0, 0, 2, 0, 0, 0, 2, 0, 0, 0, 0,\n",
       "        0, 0, 0, 2, 2, 2, 2, 0, 0, 2, 1, 0, 1, 1, 1, 0, 2, 2, 2, 0, 0, 0, 0, 2,\n",
       "        2, 2, 2, 0, 0, 1, 1, 0, 0, 0, 0, 0, 0, 2, 0, 1, 2, 2, 2, 2, 2, 2, 2, 2,\n",
       "        2, 2, 2, 2, 2, 2, 2, 2, 2, 2, 2, 2, 2, 2, 2, 2, 2, 2, 1, 2, 0, 2, 0, 0,\n",
       "        0, 0, 0, 1, 1, 0, 1, 0, 0, 2, 0, 0, 0, 0, 0, 1, 0, 0, 1, 0, 0, 1, 1, 1,\n",
       "        0, 1, 0, 2, 2, 1, 2, 1, 2, 0, 0, 0, 1, 0, 0, 0, 0, 0, 1, 0, 1, 0, 0, 1,\n",
       "        2, 2, 1, 2, 0, 2, 0, 1, 2, 1, 2, 0, 2, 0, 0, 1, 2, 1, 1, 0, 1, 1, 2, 1,\n",
       "        2, 2, 2, 2, 1, 1, 0, 1, 1, 0, 1, 1, 0, 2, 1, 0, 0, 0, 2, 0, 1, 2, 0, 0,\n",
       "        0, 1, 0, 0, 1, 0, 0, 0, 0, 0, 0, 1, 1, 0, 1, 0, 2, 1, 2, 0, 2, 2, 2, 2,\n",
       "        2, 0, 0, 0, 1, 0, 0, 0, 0, 0, 1, 1, 0, 2, 0, 1, 0, 0, 2, 0, 1, 0, 0, 0],\n",
       "       device='cuda:0')"
      ]
     },
     "execution_count": 44,
     "metadata": {},
     "output_type": "execute_result"
    }
   ],
   "source": [
    "# Predict ## this method of prediction is not very legit, try using CCE loss for loss fn instead of default MSE loss\n",
    "y_pred_cont = model(X_test_tensor).squeeze()  # shape: [384]\n",
    "y_pred = torch.round(y_pred_cont).long().clamp(0, 2)  # round to nearest class (0, 1, 2)\n",
    "y_pred"
   ]
  },
  {
   "cell_type": "code",
   "execution_count": 45,
   "id": "e6bba57c",
   "metadata": {},
   "outputs": [
    {
     "data": {
      "text/plain": [
       "torch.Size([384])"
      ]
     },
     "execution_count": 45,
     "metadata": {},
     "output_type": "execute_result"
    }
   ],
   "source": [
    "y_test_tensor.shape"
   ]
  },
  {
   "cell_type": "code",
   "execution_count": 46,
   "id": "c54e4cae",
   "metadata": {},
   "outputs": [
    {
     "data": {
      "text/plain": [
       "0.2786458333333333"
      ]
     },
     "execution_count": 46,
     "metadata": {},
     "output_type": "execute_result"
    }
   ],
   "source": [
    "\n",
    "accuracy = accuracy_score(y_test, y_pred.cpu().numpy())\n",
    "accuracy"
   ]
  },
  {
   "cell_type": "code",
   "execution_count": 47,
   "id": "89a40bdc",
   "metadata": {},
   "outputs": [],
   "source": [
    "# Fit\n",
    "# model.fit(train_dataset, opt=\"LBFGS\", steps=100, lamb=0.001)\n",
    "\n",
    "# Predict\n",
    "# y_pred = model(X_test_tensor)\n",
    "# y_pred_classes = y_pred.argmax(dim=1)\n",
    "\n",
    "# # Accuracy\n",
    "# accuracy = (y_pred_classes == y_test_tensor).float().mean().item()\n",
    "# print(\"Accuracy:\", accuracy)"
   ]
  }
 ],
 "metadata": {
  "kernelspec": {
   "display_name": "kan",
   "language": "python",
   "name": "python3"
  },
  "language_info": {
   "codemirror_mode": {
    "name": "ipython",
    "version": 3
   },
   "file_extension": ".py",
   "mimetype": "text/x-python",
   "name": "python",
   "nbconvert_exporter": "python",
   "pygments_lexer": "ipython3",
   "version": "3.11.11"
  }
 },
 "nbformat": 4,
 "nbformat_minor": 5
}
