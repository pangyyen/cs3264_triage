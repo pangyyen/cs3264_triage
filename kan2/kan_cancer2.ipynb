{
 "cells": [
  {
   "cell_type": "markdown",
   "id": "90d5e97b",
   "metadata": {},
   "source": [
    "import models"
   ]
  },
  {
   "cell_type": "code",
   "execution_count": 1464,
   "id": "e1f2f3a4",
   "metadata": {},
   "outputs": [],
   "source": [
    "import pandas as pd\n",
    "from kan import *\n",
    "from kan.utils import create_dataset_from_data\n",
    "import torch\n",
    "from torch.nn import CrossEntropyLoss\n",
    "from sklearn.preprocessing import LabelEncoder\n",
    "from sklearn.metrics import accuracy_score, confusion_matrix\n",
    "from sklearn.preprocessing import StandardScaler"
   ]
  },
  {
   "cell_type": "markdown",
   "id": "5b062edd",
   "metadata": {},
   "source": [
    "load data"
   ]
  },
  {
   "cell_type": "code",
   "execution_count": 1465,
   "id": "1faba319",
   "metadata": {},
   "outputs": [],
   "source": [
    "df_masstrain = pd.read_csv('csv/pyradiomics_mass_train.csv')\n",
    "df_masstest = pd.read_csv('csv/pyradiomics_mass_test.csv')\n",
    "df_calctrain = pd.read_csv('csv/pyradiomics_calc_train.csv')\n",
    "df_calctest = pd.read_csv('csv/pyradiomics_calc_test.csv')"
   ]
  },
  {
   "cell_type": "code",
   "execution_count": 1466,
   "id": "bcf46328",
   "metadata": {},
   "outputs": [
    {
     "name": "stdout",
     "output_type": "stream",
     "text": [
      "(1450, 66)\n",
      "(384, 66)\n",
      "(1574, 66)\n",
      "(311, 66)\n"
     ]
    }
   ],
   "source": [
    "print(df_masstrain.shape)\n",
    "print(df_masstest.shape)\n",
    "print(df_calctrain.shape)\n",
    "print(df_calctest.shape)"
   ]
  },
  {
   "cell_type": "markdown",
   "id": "bf505e1d",
   "metadata": {},
   "source": [
    "print column names"
   ]
  },
  {
   "cell_type": "code",
   "execution_count": 1467,
   "id": "0b62f046",
   "metadata": {},
   "outputs": [
    {
     "name": "stdout",
     "output_type": "stream",
     "text": [
      "Index(['patient_id', 'breast_density', 'left_or_right_breast', 'image_view',\n",
      "       'abnormality_id', 'abnormality_type', 'mass_shape', 'mass_margins',\n",
      "       'assessment', 'pathology', 'subtlety', 'image_file_path',\n",
      "       'cropped_image_file_path', 'ROI_mask_file_path',\n",
      "       'original_shape2D_Elongation', 'original_shape2D_MajorAxisLength',\n",
      "       'original_shape2D_MaximumDiameter', 'original_shape2D_MeshSurface',\n",
      "       'original_shape2D_MinorAxisLength', 'original_shape2D_Perimeter',\n",
      "       'original_shape2D_PerimeterSurfaceRatio',\n",
      "       'original_shape2D_PixelSurface', 'original_shape2D_Sphericity',\n",
      "       'original_firstorder_10Percentile', 'original_firstorder_90Percentile',\n",
      "       'original_firstorder_Energy', 'original_firstorder_Entropy',\n",
      "       'original_firstorder_InterquartileRange',\n",
      "       'original_firstorder_Kurtosis', 'original_firstorder_Maximum',\n",
      "       'original_firstorder_MeanAbsoluteDeviation', 'original_firstorder_Mean',\n",
      "       'original_firstorder_Median', 'original_firstorder_Minimum',\n",
      "       'original_firstorder_Range',\n",
      "       'original_firstorder_RobustMeanAbsoluteDeviation',\n",
      "       'original_firstorder_RootMeanSquared', 'original_firstorder_Skewness',\n",
      "       'original_firstorder_TotalEnergy', 'original_firstorder_Uniformity',\n",
      "       'original_firstorder_Variance', 'original_glcm_Autocorrelation',\n",
      "       'original_glcm_ClusterProminence', 'original_glcm_ClusterShade',\n",
      "       'original_glcm_ClusterTendency', 'original_glcm_Contrast',\n",
      "       'original_glcm_Correlation', 'original_glcm_DifferenceAverage',\n",
      "       'original_glcm_DifferenceEntropy', 'original_glcm_DifferenceVariance',\n",
      "       'original_glcm_Id', 'original_glcm_Idm', 'original_glcm_Idmn',\n",
      "       'original_glcm_Idn', 'original_glcm_Imc1', 'original_glcm_Imc2',\n",
      "       'original_glcm_InverseVariance', 'original_glcm_JointAverage',\n",
      "       'original_glcm_JointEnergy', 'original_glcm_JointEntropy',\n",
      "       'original_glcm_MCC', 'original_glcm_MaximumProbability',\n",
      "       'original_glcm_SumAverage', 'original_glcm_SumEntropy',\n",
      "       'original_glcm_SumSquares', 'image_path'],\n",
      "      dtype='object')\n",
      "Index(['patient_id', 'breast_density', 'left_or_right_breast', 'image_view',\n",
      "       'abnormality_id', 'abnormality_type', 'calc_type', 'calc_distribution',\n",
      "       'assessment', 'pathology', 'subtlety', 'image_file_path',\n",
      "       'cropped_image_file_path', 'ROI_mask_file_path',\n",
      "       'original_shape2D_Elongation', 'original_shape2D_MajorAxisLength',\n",
      "       'original_shape2D_MaximumDiameter', 'original_shape2D_MeshSurface',\n",
      "       'original_shape2D_MinorAxisLength', 'original_shape2D_Perimeter',\n",
      "       'original_shape2D_PerimeterSurfaceRatio',\n",
      "       'original_shape2D_PixelSurface', 'original_shape2D_Sphericity',\n",
      "       'original_firstorder_10Percentile', 'original_firstorder_90Percentile',\n",
      "       'original_firstorder_Energy', 'original_firstorder_Entropy',\n",
      "       'original_firstorder_InterquartileRange',\n",
      "       'original_firstorder_Kurtosis', 'original_firstorder_Maximum',\n",
      "       'original_firstorder_MeanAbsoluteDeviation', 'original_firstorder_Mean',\n",
      "       'original_firstorder_Median', 'original_firstorder_Minimum',\n",
      "       'original_firstorder_Range',\n",
      "       'original_firstorder_RobustMeanAbsoluteDeviation',\n",
      "       'original_firstorder_RootMeanSquared', 'original_firstorder_Skewness',\n",
      "       'original_firstorder_TotalEnergy', 'original_firstorder_Uniformity',\n",
      "       'original_firstorder_Variance', 'original_glcm_Autocorrelation',\n",
      "       'original_glcm_ClusterProminence', 'original_glcm_ClusterShade',\n",
      "       'original_glcm_ClusterTendency', 'original_glcm_Contrast',\n",
      "       'original_glcm_Correlation', 'original_glcm_DifferenceAverage',\n",
      "       'original_glcm_DifferenceEntropy', 'original_glcm_DifferenceVariance',\n",
      "       'original_glcm_Id', 'original_glcm_Idm', 'original_glcm_Idmn',\n",
      "       'original_glcm_Idn', 'original_glcm_Imc1', 'original_glcm_Imc2',\n",
      "       'original_glcm_InverseVariance', 'original_glcm_JointAverage',\n",
      "       'original_glcm_JointEnergy', 'original_glcm_JointEntropy',\n",
      "       'original_glcm_MCC', 'original_glcm_MaximumProbability',\n",
      "       'original_glcm_SumAverage', 'original_glcm_SumEntropy',\n",
      "       'original_glcm_SumSquares', 'image_path'],\n",
      "      dtype='object')\n"
     ]
    }
   ],
   "source": [
    "## uncomment and run cell to print\n",
    "\n",
    "print(df_masstrain.columns)\n",
    "print(df_calctest.columns)\n"
   ]
  },
  {
   "cell_type": "markdown",
   "id": "6cc946d1",
   "metadata": {},
   "source": [
    "data cleaning"
   ]
  },
  {
   "cell_type": "code",
   "execution_count": 1468,
   "id": "be85ff1a",
   "metadata": {},
   "outputs": [],
   "source": [
    "## drop useless features\n",
    "\n",
    "columns=[\n",
    "    'patient_id',\n",
    "    'left_or_right_breast',\n",
    "    'abnormality_id',\n",
    "    'abnormality_type',\n",
    "    'subtlety',\n",
    "    'image_file_path',\n",
    "    'cropped_image_file_path',\n",
    "    'ROI_mask_file_path',\n",
    "    'image_path'\n",
    "]\n",
    "\n",
    "df_masstrain.drop(columns=columns, inplace=True)\n",
    "df_masstest.drop(columns=columns, inplace=True)\n",
    "df_calctrain.drop(columns=columns, inplace=True)\n",
    "df_calctest.drop(columns=columns, inplace=True)\n",
    "\n",
    "# df_masstrain.drop(columns=['mass_shape', 'mass_margins'], inplace=True)\n",
    "# df_masstest.drop(columns=['mass_shape', 'mass_margins'], inplace=True)\n",
    "# df_calctrain.drop(columns=['calc_type', 'calc_distribution'], inplace=True)\n",
    "# df_calctest.drop(columns=['calc_type', 'calc_distribution'], inplace=True)"
   ]
  },
  {
   "cell_type": "markdown",
   "id": "b76d2935",
   "metadata": {},
   "source": [
    "label encoding the mass or calc dataset\n",
    "\n",
    "uncomment the dataset you are using"
   ]
  },
  {
   "cell_type": "code",
   "execution_count": 1469,
   "id": "c5583008",
   "metadata": {},
   "outputs": [
    {
     "data": {
      "text/html": [
       "<div>\n",
       "<style scoped>\n",
       "    .dataframe tbody tr th:only-of-type {\n",
       "        vertical-align: middle;\n",
       "    }\n",
       "\n",
       "    .dataframe tbody tr th {\n",
       "        vertical-align: top;\n",
       "    }\n",
       "\n",
       "    .dataframe thead th {\n",
       "        text-align: right;\n",
       "    }\n",
       "</style>\n",
       "<table border=\"1\" class=\"dataframe\">\n",
       "  <thead>\n",
       "    <tr style=\"text-align: right;\">\n",
       "      <th></th>\n",
       "      <th>breast_density</th>\n",
       "      <th>image_view</th>\n",
       "      <th>mass_shape</th>\n",
       "      <th>mass_margins</th>\n",
       "      <th>assessment</th>\n",
       "      <th>pathology</th>\n",
       "      <th>original_shape2D_Elongation</th>\n",
       "      <th>original_shape2D_MajorAxisLength</th>\n",
       "      <th>original_shape2D_MaximumDiameter</th>\n",
       "      <th>original_shape2D_MeshSurface</th>\n",
       "      <th>...</th>\n",
       "      <th>original_glcm_Imc2</th>\n",
       "      <th>original_glcm_InverseVariance</th>\n",
       "      <th>original_glcm_JointAverage</th>\n",
       "      <th>original_glcm_JointEnergy</th>\n",
       "      <th>original_glcm_JointEntropy</th>\n",
       "      <th>original_glcm_MCC</th>\n",
       "      <th>original_glcm_MaximumProbability</th>\n",
       "      <th>original_glcm_SumAverage</th>\n",
       "      <th>original_glcm_SumEntropy</th>\n",
       "      <th>original_glcm_SumSquares</th>\n",
       "    </tr>\n",
       "  </thead>\n",
       "  <tbody>\n",
       "    <tr>\n",
       "      <th>0</th>\n",
       "      <td>3</td>\n",
       "      <td>0</td>\n",
       "      <td>4</td>\n",
       "      <td>14</td>\n",
       "      <td>4</td>\n",
       "      <td>2</td>\n",
       "      <td>0.846472</td>\n",
       "      <td>616.314335</td>\n",
       "      <td>502.004980</td>\n",
       "      <td>1420.5</td>\n",
       "      <td>...</td>\n",
       "      <td>0.928407</td>\n",
       "      <td>0.133450</td>\n",
       "      <td>2.474573</td>\n",
       "      <td>0.312687</td>\n",
       "      <td>2.234955</td>\n",
       "      <td>0.923074</td>\n",
       "      <td>0.468822</td>\n",
       "      <td>4.949146</td>\n",
       "      <td>2.101505</td>\n",
       "      <td>0.602391</td>\n",
       "    </tr>\n",
       "    <tr>\n",
       "      <th>1</th>\n",
       "      <td>3</td>\n",
       "      <td>1</td>\n",
       "      <td>4</td>\n",
       "      <td>14</td>\n",
       "      <td>4</td>\n",
       "      <td>2</td>\n",
       "      <td>0.897539</td>\n",
       "      <td>309.805534</td>\n",
       "      <td>262.937255</td>\n",
       "      <td>502.5</td>\n",
       "      <td>...</td>\n",
       "      <td>0.897990</td>\n",
       "      <td>0.052693</td>\n",
       "      <td>1.547551</td>\n",
       "      <td>0.451682</td>\n",
       "      <td>1.359706</td>\n",
       "      <td>0.940436</td>\n",
       "      <td>0.524013</td>\n",
       "      <td>3.095102</td>\n",
       "      <td>1.307013</td>\n",
       "      <td>0.276766</td>\n",
       "    </tr>\n",
       "    <tr>\n",
       "      <th>2</th>\n",
       "      <td>3</td>\n",
       "      <td>0</td>\n",
       "      <td>0</td>\n",
       "      <td>4</td>\n",
       "      <td>4</td>\n",
       "      <td>0</td>\n",
       "      <td>0.893191</td>\n",
       "      <td>573.773997</td>\n",
       "      <td>452.636720</td>\n",
       "      <td>1128.0</td>\n",
       "      <td>...</td>\n",
       "      <td>0.880520</td>\n",
       "      <td>0.074755</td>\n",
       "      <td>2.733182</td>\n",
       "      <td>0.448109</td>\n",
       "      <td>1.539641</td>\n",
       "      <td>0.932531</td>\n",
       "      <td>0.605238</td>\n",
       "      <td>5.466364</td>\n",
       "      <td>1.464885</td>\n",
       "      <td>0.288590</td>\n",
       "    </tr>\n",
       "    <tr>\n",
       "      <th>3</th>\n",
       "      <td>3</td>\n",
       "      <td>1</td>\n",
       "      <td>0</td>\n",
       "      <td>4</td>\n",
       "      <td>4</td>\n",
       "      <td>0</td>\n",
       "      <td>0.926594</td>\n",
       "      <td>505.193212</td>\n",
       "      <td>427.242320</td>\n",
       "      <td>1322.0</td>\n",
       "      <td>...</td>\n",
       "      <td>0.728752</td>\n",
       "      <td>0.027876</td>\n",
       "      <td>1.125884</td>\n",
       "      <td>0.753309</td>\n",
       "      <td>0.707630</td>\n",
       "      <td>0.873908</td>\n",
       "      <td>0.860178</td>\n",
       "      <td>2.251769</td>\n",
       "      <td>0.679754</td>\n",
       "      <td>0.109852</td>\n",
       "    </tr>\n",
       "    <tr>\n",
       "      <th>4</th>\n",
       "      <td>3</td>\n",
       "      <td>1</td>\n",
       "      <td>12</td>\n",
       "      <td>0</td>\n",
       "      <td>4</td>\n",
       "      <td>0</td>\n",
       "      <td>0.840487</td>\n",
       "      <td>542.354168</td>\n",
       "      <td>441.072556</td>\n",
       "      <td>1044.0</td>\n",
       "      <td>...</td>\n",
       "      <td>0.939958</td>\n",
       "      <td>0.040505</td>\n",
       "      <td>2.847048</td>\n",
       "      <td>0.427190</td>\n",
       "      <td>1.576505</td>\n",
       "      <td>0.980083</td>\n",
       "      <td>0.586644</td>\n",
       "      <td>5.694097</td>\n",
       "      <td>1.536000</td>\n",
       "      <td>0.374897</td>\n",
       "    </tr>\n",
       "  </tbody>\n",
       "</table>\n",
       "<p>5 rows × 57 columns</p>\n",
       "</div>"
      ],
      "text/plain": [
       "   breast_density  image_view  mass_shape  mass_margins  assessment   \n",
       "0               3           0           4            14           4  \\\n",
       "1               3           1           4            14           4   \n",
       "2               3           0           0             4           4   \n",
       "3               3           1           0             4           4   \n",
       "4               3           1          12             0           4   \n",
       "\n",
       "   pathology  original_shape2D_Elongation  original_shape2D_MajorAxisLength   \n",
       "0          2                     0.846472                        616.314335  \\\n",
       "1          2                     0.897539                        309.805534   \n",
       "2          0                     0.893191                        573.773997   \n",
       "3          0                     0.926594                        505.193212   \n",
       "4          0                     0.840487                        542.354168   \n",
       "\n",
       "   original_shape2D_MaximumDiameter  original_shape2D_MeshSurface  ...   \n",
       "0                        502.004980                        1420.5  ...  \\\n",
       "1                        262.937255                         502.5  ...   \n",
       "2                        452.636720                        1128.0  ...   \n",
       "3                        427.242320                        1322.0  ...   \n",
       "4                        441.072556                        1044.0  ...   \n",
       "\n",
       "   original_glcm_Imc2  original_glcm_InverseVariance   \n",
       "0            0.928407                       0.133450  \\\n",
       "1            0.897990                       0.052693   \n",
       "2            0.880520                       0.074755   \n",
       "3            0.728752                       0.027876   \n",
       "4            0.939958                       0.040505   \n",
       "\n",
       "   original_glcm_JointAverage  original_glcm_JointEnergy   \n",
       "0                    2.474573                   0.312687  \\\n",
       "1                    1.547551                   0.451682   \n",
       "2                    2.733182                   0.448109   \n",
       "3                    1.125884                   0.753309   \n",
       "4                    2.847048                   0.427190   \n",
       "\n",
       "   original_glcm_JointEntropy  original_glcm_MCC   \n",
       "0                    2.234955           0.923074  \\\n",
       "1                    1.359706           0.940436   \n",
       "2                    1.539641           0.932531   \n",
       "3                    0.707630           0.873908   \n",
       "4                    1.576505           0.980083   \n",
       "\n",
       "   original_glcm_MaximumProbability  original_glcm_SumAverage   \n",
       "0                          0.468822                  4.949146  \\\n",
       "1                          0.524013                  3.095102   \n",
       "2                          0.605238                  5.466364   \n",
       "3                          0.860178                  2.251769   \n",
       "4                          0.586644                  5.694097   \n",
       "\n",
       "   original_glcm_SumEntropy  original_glcm_SumSquares  \n",
       "0                  2.101505                  0.602391  \n",
       "1                  1.307013                  0.276766  \n",
       "2                  1.464885                  0.288590  \n",
       "3                  0.679754                  0.109852  \n",
       "4                  1.536000                  0.374897  \n",
       "\n",
       "[5 rows x 57 columns]"
      ]
     },
     "execution_count": 1469,
     "metadata": {},
     "output_type": "execute_result"
    }
   ],
   "source": [
    "### mass dataset ###\n",
    "# Columns to encode\n",
    "cols_to_encode = ['image_view', 'mass_shape', 'mass_margins', 'pathology']\n",
    "# cols_to_encode = ['image_view', 'pathology']\n",
    "label_encoders = {}\n",
    "\n",
    "# Create a copy to keep things clean\n",
    "df_encoded_train = df_masstrain.copy()\n",
    "df_encoded_test = df_masstest.copy()\n",
    "\n",
    "for col in cols_to_encode:\n",
    "    le = LabelEncoder()\n",
    "    df_encoded_train[col] = le.fit_transform(df_encoded_train[col])\n",
    "    df_encoded_test[col] = le.fit_transform(df_encoded_test[col])\n",
    "    label_encoders[col] = le\n",
    "\n",
    "df_encoded_train.head()"
   ]
  },
  {
   "cell_type": "code",
   "execution_count": 1470,
   "id": "cb58b0c0",
   "metadata": {},
   "outputs": [],
   "source": [
    "### calc dataset ###\n",
    "# # Columns to encode\n",
    "# cols_to_encode = ['image_view', 'calc_type', 'calc_distribution', 'pathology']\n",
    "# # cols_to_encode = ['image_view', 'pathology']\n",
    "# label_encoders = {}\n",
    "\n",
    "# # Create a copy to keep things clean\n",
    "# df_encoded_train = df_calctrain.copy()\n",
    "# df_encoded_test = df_calctest.copy()\n",
    "\n",
    "# for col in cols_to_encode:\n",
    "#     le = LabelEncoder()\n",
    "#     df_encoded_train[col] = le.fit_transform(df_encoded_train[col])\n",
    "#     df_encoded_test[col] = le.fit_transform(df_encoded_test[col])\n",
    "#     label_encoders[col] = le\n",
    "\n",
    "# df_encoded_train.head()"
   ]
  },
  {
   "cell_type": "markdown",
   "id": "5ec8ea19",
   "metadata": {},
   "source": [
    "inspect categorical feature encodings"
   ]
  },
  {
   "cell_type": "code",
   "execution_count": 1471,
   "id": "f1364c3a",
   "metadata": {},
   "outputs": [
    {
     "name": "stdout",
     "output_type": "stream",
     "text": [
      "Encoding for image_view: {'CC': 0, 'MLO': 1}\n",
      "Encoding for mass_shape: {'ARCHITECTURAL_DISTORTION': 0, 'ASYMMETRIC_BREAST_TISSUE': 1, 'FOCAL_ASYMMETRIC_DENSITY': 2, 'IRREGULAR': 3, 'IRREGULAR-ARCHITECTURAL_DISTORTION': 4, 'IRREGULAR-ASYMMETRIC_BREAST_TISSUE': 5, 'LOBULATED': 6, 'LOBULATED-IRREGULAR': 7, 'LOBULATED-LYMPH_NODE': 8, 'LYMPH_NODE': 9, 'OVAL': 10, 'OVAL-LOBULATED': 11, 'ROUND': 12}\n",
      "Encoding for mass_margins: {'CIRCUMSCRIBED': 0, 'CIRCUMSCRIBED-ILL_DEFINED': 1, 'CIRCUMSCRIBED-MICROLOBULATED': 2, 'CIRCUMSCRIBED-MICROLOBULATED-ILL_DEFINED': 3, 'CIRCUMSCRIBED-OBSCURED': 4, 'CIRCUMSCRIBED-OBSCURED-ILL_DEFINED': 5, 'CIRCUMSCRIBED-SPICULATED': 6, 'ILL_DEFINED': 7, 'ILL_DEFINED-SPICULATED': 8, 'MICROLOBULATED': 9, 'MICROLOBULATED-ILL_DEFINED': 10, 'OBSCURED': 11, 'OBSCURED-CIRCUMSCRIBED': 12, 'OBSCURED-ILL_DEFINED': 13, 'OBSCURED-ILL_DEFINED-SPICULATED': 14, 'SPICULATED': 15}\n",
      "Encoding for pathology: {'BENIGN': 0, 'BENIGN_WITHOUT_CALLBACK': 1, 'MALIGNANT': 2}\n"
     ]
    }
   ],
   "source": [
    "for col in cols_to_encode:\n",
    "    le = label_encoders[col]\n",
    "    mapping = dict(zip(le.classes_, le.transform(le.classes_)))\n",
    "    print(f\"Encoding for {col}: {mapping}\")"
   ]
  },
  {
   "cell_type": "markdown",
   "id": "bcdf97e8",
   "metadata": {},
   "source": [
    "normalization"
   ]
  },
  {
   "cell_type": "code",
   "execution_count": 1472,
   "id": "447750b0",
   "metadata": {},
   "outputs": [],
   "source": [
    "# Select numeric columns excluding the categorical ones\n",
    "numerical_cols = df_encoded_train.select_dtypes(include=['number']).columns.difference(cols_to_encode)\n",
    "\n",
    "# Initialize the scaler\n",
    "scaler = StandardScaler()\n",
    "\n",
    "# Copy to keep the original DataFrames safe\n",
    "df_scaled_train = df_encoded_train.copy()\n",
    "df_scaled_test = df_encoded_test.copy()\n",
    "\n",
    "# Fit scaler on train and transform both train & test\n",
    "df_scaled_train[numerical_cols] = scaler.fit_transform(df_encoded_train[numerical_cols])\n",
    "df_scaled_test[numerical_cols] = scaler.transform(df_encoded_test[numerical_cols])"
   ]
  },
  {
   "cell_type": "markdown",
   "id": "3b7cd432",
   "metadata": {},
   "source": [
    "convert to tensor"
   ]
  },
  {
   "cell_type": "code",
   "execution_count": 1473,
   "id": "08f6d23f",
   "metadata": {},
   "outputs": [
    {
     "name": "stdout",
     "output_type": "stream",
     "text": [
      "cuda\n"
     ]
    }
   ],
   "source": [
    "device = torch.device('cuda' if torch.cuda.is_available() else 'cpu')\n",
    "# device = 'cpu'\n",
    "print(device)"
   ]
  },
  {
   "cell_type": "code",
   "execution_count": 1474,
   "id": "2f1ed580",
   "metadata": {},
   "outputs": [
    {
     "name": "stdout",
     "output_type": "stream",
     "text": [
      "Training set shape: torch.Size([1450, 55]) torch.Size([1450])\n",
      "Test set shape: torch.Size([384, 55]) torch.Size([384])\n"
     ]
    }
   ],
   "source": [
    "X_train = df_scaled_train.drop(columns=[\"assessment\", \"pathology\"]).values.astype(np.float64)\n",
    "y_train = df_scaled_train[\"pathology\"].values  # Target variable\n",
    "\n",
    "X_test = df_scaled_test.drop(columns=[\"assessment\", \"pathology\"]).values.astype(np.float64)\n",
    "y_test = df_scaled_test[\"pathology\"].values  # Target variable\n",
    "\n",
    "\n",
    "X_train_tensor = torch.tensor(X_train, dtype=torch.float64).to(device)\n",
    "X_test_tensor = torch.tensor(X_test, dtype=torch.float64).to(device)\n",
    "y_train_tensor = torch.tensor(y_train, dtype=torch.float64).to(device)\n",
    "y_test_tensor = torch.tensor(y_test, dtype=torch.float64).to(device)\n",
    "\n",
    "\n",
    "print(\"Training set shape:\", X_train_tensor.shape, y_train_tensor.shape)\n",
    "print(\"Test set shape:\", X_test_tensor.shape, y_test_tensor.shape)"
   ]
  },
  {
   "cell_type": "code",
   "execution_count": 1475,
   "id": "91e73b78",
   "metadata": {},
   "outputs": [
    {
     "data": {
      "text/plain": [
       "55"
      ]
     },
     "execution_count": 1475,
     "metadata": {},
     "output_type": "execute_result"
    }
   ],
   "source": [
    "input_dim = X_train_tensor.shape[1]\n",
    "input_dim"
   ]
  },
  {
   "cell_type": "markdown",
   "id": "54d830cc",
   "metadata": {},
   "source": [
    "hyperparameters"
   ]
  },
  {
   "cell_type": "code",
   "execution_count": 1476,
   "id": "68ea0509",
   "metadata": {},
   "outputs": [
    {
     "name": "stdout",
     "output_type": "stream",
     "text": [
      "checkpoint directory created: ./model\n",
      "saving model version 0.0\n"
     ]
    }
   ],
   "source": [
    "torch.set_default_dtype(torch.float64)\n",
    "\n",
    "# create a KAN: 2D inputs, 1D output, and 5 hidden neurons. cubic spline (k=3), 5 grid intervals (grid=5).\n",
    "model = KAN(width=[input_dim,3], grid=3, k=3, seed=42, device=device)"
   ]
  },
  {
   "cell_type": "code",
   "execution_count": 1477,
   "id": "919179fa",
   "metadata": {},
   "outputs": [],
   "source": [
    "# help(KAN)"
   ]
  },
  {
   "cell_type": "code",
   "execution_count": 1478,
   "id": "b98db9d3",
   "metadata": {},
   "outputs": [
    {
     "data": {
      "text/plain": [
       "(torch.Size([1160, 55]), torch.Size([1160]))"
      ]
     },
     "execution_count": 1478,
     "metadata": {},
     "output_type": "execute_result"
    }
   ],
   "source": [
    "dataset = create_dataset_from_data(X_train_tensor, y_train_tensor, device=device)\n",
    "dataset['train_input'].shape, dataset['train_label'].shape"
   ]
  },
  {
   "cell_type": "code",
   "execution_count": 1479,
   "id": "01cd993f",
   "metadata": {},
   "outputs": [],
   "source": [
    "dataset['train_label'] = dataset['train_label'].long()\n",
    "dataset['test_label']  = dataset['test_label'].long()"
   ]
  },
  {
   "cell_type": "code",
   "execution_count": 1480,
   "id": "02fa6699",
   "metadata": {},
   "outputs": [],
   "source": [
    "# plot KAN at initialization\n",
    "model(dataset['train_input']);\n",
    "# model.plot()"
   ]
  },
  {
   "cell_type": "markdown",
   "id": "5e989628",
   "metadata": {},
   "source": [
    "train"
   ]
  },
  {
   "cell_type": "code",
   "execution_count": 1481,
   "id": "6959844e",
   "metadata": {},
   "outputs": [
    {
     "name": "stderr",
     "output_type": "stream",
     "text": [
      "| train_loss: 7.75e-01 | test_loss: 7.71e-01 | reg: 6.24e+00 | : 100%|█| 100/100 [00:01<00:00, 55.17"
     ]
    },
    {
     "name": "stdout",
     "output_type": "stream",
     "text": [
      "saving model version 0.1\n"
     ]
    },
    {
     "name": "stderr",
     "output_type": "stream",
     "text": [
      "\n"
     ]
    },
    {
     "data": {
      "text/plain": [
       "{'train_loss': [array(1.1381377),\n",
       "  array(1.03465881),\n",
       "  array(0.96169712),\n",
       "  array(0.92680525),\n",
       "  array(0.92123599),\n",
       "  array(0.92620035),\n",
       "  array(0.92701533),\n",
       "  array(0.91952403),\n",
       "  array(0.90604166),\n",
       "  array(0.89064112),\n",
       "  array(0.87702851),\n",
       "  array(0.86709024),\n",
       "  array(0.86149437),\n",
       "  array(0.85936292),\n",
       "  array(0.85902318),\n",
       "  array(0.85898058),\n",
       "  array(0.85793841),\n",
       "  array(0.85553208),\n",
       "  array(0.8519585),\n",
       "  array(0.84778798),\n",
       "  array(0.84384194),\n",
       "  array(0.84059035),\n",
       "  array(0.83835714),\n",
       "  array(0.83712042),\n",
       "  array(0.83662123),\n",
       "  array(0.83646263),\n",
       "  array(0.83636441),\n",
       "  array(0.83606663),\n",
       "  array(0.8354338),\n",
       "  array(0.83449647),\n",
       "  array(0.8333241),\n",
       "  array(0.83228067),\n",
       "  array(0.83142444),\n",
       "  array(0.83071324),\n",
       "  array(0.83003564),\n",
       "  array(0.82920178),\n",
       "  array(0.8282579),\n",
       "  array(0.8272393),\n",
       "  array(0.82621063),\n",
       "  array(0.82530038),\n",
       "  array(0.82436208),\n",
       "  array(0.82356004),\n",
       "  array(0.82268477),\n",
       "  array(0.8217895),\n",
       "  array(0.82089509),\n",
       "  array(0.82016431),\n",
       "  array(0.81939713),\n",
       "  array(0.81871738),\n",
       "  array(0.81810099),\n",
       "  array(0.81748449),\n",
       "  array(0.81678658),\n",
       "  array(0.8160332),\n",
       "  array(0.81526832),\n",
       "  array(0.81446977),\n",
       "  array(0.81369266),\n",
       "  array(0.81296111),\n",
       "  array(0.81221569),\n",
       "  array(0.81145858),\n",
       "  array(0.81069985),\n",
       "  array(0.80993606),\n",
       "  array(0.80910382),\n",
       "  array(0.80823106),\n",
       "  array(0.80740286),\n",
       "  array(0.80654175),\n",
       "  array(0.80557973),\n",
       "  array(0.80456069),\n",
       "  array(0.80350654),\n",
       "  array(0.80252059),\n",
       "  array(0.80158218),\n",
       "  array(0.80063671),\n",
       "  array(0.79970857),\n",
       "  array(0.79875586),\n",
       "  array(0.79775972),\n",
       "  array(0.7968086),\n",
       "  array(0.79594016),\n",
       "  array(0.79502715),\n",
       "  array(0.79409523),\n",
       "  array(0.79314728),\n",
       "  array(0.79217365),\n",
       "  array(0.79118254),\n",
       "  array(0.79029898),\n",
       "  array(0.78942384),\n",
       "  array(0.78852555),\n",
       "  array(0.78761361),\n",
       "  array(0.78672834),\n",
       "  array(0.78588904),\n",
       "  array(0.78504006),\n",
       "  array(0.78418195),\n",
       "  array(0.78330125),\n",
       "  array(0.78242498),\n",
       "  array(0.78162398),\n",
       "  array(0.78084105),\n",
       "  array(0.78004105),\n",
       "  array(0.779188),\n",
       "  array(0.77834221),\n",
       "  array(0.77755378),\n",
       "  array(0.77678963),\n",
       "  array(0.7760664),\n",
       "  array(0.77531192),\n",
       "  array(0.7745551)],\n",
       " 'test_loss': [array(1.00352358),\n",
       "  array(0.93952608),\n",
       "  array(0.91369683),\n",
       "  array(0.91675399),\n",
       "  array(0.92869058),\n",
       "  array(0.93368921),\n",
       "  array(0.92807413),\n",
       "  array(0.91466789),\n",
       "  array(0.8981575),\n",
       "  array(0.88254482),\n",
       "  array(0.87034083),\n",
       "  array(0.8620879),\n",
       "  array(0.85739495),\n",
       "  array(0.85484108),\n",
       "  array(0.85294473),\n",
       "  array(0.85069058),\n",
       "  array(0.84734612),\n",
       "  array(0.84317968),\n",
       "  array(0.83870874),\n",
       "  array(0.83458763),\n",
       "  array(0.83143068),\n",
       "  array(0.82928064),\n",
       "  array(0.82817399),\n",
       "  array(0.82785663),\n",
       "  array(0.82787738),\n",
       "  array(0.82779079),\n",
       "  array(0.82739124),\n",
       "  array(0.82655916),\n",
       "  array(0.8253896),\n",
       "  array(0.824147),\n",
       "  array(0.82307196),\n",
       "  array(0.8222864),\n",
       "  array(0.82167826),\n",
       "  array(0.82107762),\n",
       "  array(0.82038474),\n",
       "  array(0.81954977),\n",
       "  array(0.81850005),\n",
       "  array(0.81739458),\n",
       "  array(0.81645257),\n",
       "  array(0.81567426),\n",
       "  array(0.81491119),\n",
       "  array(0.81427262),\n",
       "  array(0.81372359),\n",
       "  array(0.8131554),\n",
       "  array(0.81262059),\n",
       "  array(0.81215503),\n",
       "  array(0.81171445),\n",
       "  array(0.8112296),\n",
       "  array(0.8107016),\n",
       "  array(0.81011013),\n",
       "  array(0.80935324),\n",
       "  array(0.80840799),\n",
       "  array(0.80746418),\n",
       "  array(0.80651585),\n",
       "  array(0.80570399),\n",
       "  array(0.80505262),\n",
       "  array(0.80443908),\n",
       "  array(0.80380819),\n",
       "  array(0.80321148),\n",
       "  array(0.8027268),\n",
       "  array(0.80229682),\n",
       "  array(0.80183118),\n",
       "  array(0.8012798),\n",
       "  array(0.80065745),\n",
       "  array(0.7999765),\n",
       "  array(0.79929428),\n",
       "  array(0.79861342),\n",
       "  array(0.79794648),\n",
       "  array(0.79724005),\n",
       "  array(0.79643747),\n",
       "  array(0.7956284),\n",
       "  array(0.79477823),\n",
       "  array(0.79380138),\n",
       "  array(0.79268588),\n",
       "  array(0.79153811),\n",
       "  array(0.79047509),\n",
       "  array(0.78961036),\n",
       "  array(0.78891145),\n",
       "  array(0.78815172),\n",
       "  array(0.7873714),\n",
       "  array(0.78658152),\n",
       "  array(0.7857643),\n",
       "  array(0.78503555),\n",
       "  array(0.78439499),\n",
       "  array(0.78373253),\n",
       "  array(0.78287371),\n",
       "  array(0.78183285),\n",
       "  array(0.7807199),\n",
       "  array(0.77966347),\n",
       "  array(0.77890501),\n",
       "  array(0.77826756),\n",
       "  array(0.77757042),\n",
       "  array(0.77681028),\n",
       "  array(0.77601468),\n",
       "  array(0.77507476),\n",
       "  array(0.77406283),\n",
       "  array(0.77317903),\n",
       "  array(0.77254074),\n",
       "  array(0.77188505),\n",
       "  array(0.77105382)],\n",
       " 'reg': [array(14.87444675),\n",
       "  array(14.79905268),\n",
       "  array(14.8079112),\n",
       "  array(14.75070914),\n",
       "  array(14.63012698),\n",
       "  array(14.42424856),\n",
       "  array(14.15593499),\n",
       "  array(13.90459468),\n",
       "  array(13.73893692),\n",
       "  array(13.6276407),\n",
       "  array(13.494001),\n",
       "  array(13.32818686),\n",
       "  array(13.17132351),\n",
       "  array(12.97514954),\n",
       "  array(12.72896266),\n",
       "  array(12.48257489),\n",
       "  array(12.22277931),\n",
       "  array(11.93027848),\n",
       "  array(11.66168237),\n",
       "  array(11.41193553),\n",
       "  array(11.14335359),\n",
       "  array(10.86203182),\n",
       "  array(10.58986059),\n",
       "  array(10.31534808),\n",
       "  array(10.08706372),\n",
       "  array(9.89293672),\n",
       "  array(9.65179969),\n",
       "  array(9.45571119),\n",
       "  array(9.28535694),\n",
       "  array(9.12197908),\n",
       "  array(8.96664234),\n",
       "  array(8.80210833),\n",
       "  array(8.69058706),\n",
       "  array(8.57687923),\n",
       "  array(8.45337528),\n",
       "  array(8.3619475),\n",
       "  array(8.20202873),\n",
       "  array(8.04645557),\n",
       "  array(7.9665879),\n",
       "  array(7.93632958),\n",
       "  array(7.95438371),\n",
       "  array(7.89580072),\n",
       "  array(7.79886269),\n",
       "  array(7.7431666),\n",
       "  array(7.72268452),\n",
       "  array(7.64579119),\n",
       "  array(7.59674006),\n",
       "  array(7.52164169),\n",
       "  array(7.42531327),\n",
       "  array(7.34654242),\n",
       "  array(7.25513798),\n",
       "  array(7.15576243),\n",
       "  array(7.10518018),\n",
       "  array(7.01978792),\n",
       "  array(6.96009067),\n",
       "  array(6.91529802),\n",
       "  array(6.84622633),\n",
       "  array(6.77699987),\n",
       "  array(6.71751913),\n",
       "  array(6.67438919),\n",
       "  array(6.61560063),\n",
       "  array(6.52736296),\n",
       "  array(6.46483715),\n",
       "  array(6.45943659),\n",
       "  array(6.44662546),\n",
       "  array(6.48737627),\n",
       "  array(6.51143834),\n",
       "  array(6.50496369),\n",
       "  array(6.47933954),\n",
       "  array(6.43279189),\n",
       "  array(6.43712495),\n",
       "  array(6.44398184),\n",
       "  array(6.43126895),\n",
       "  array(6.40301132),\n",
       "  array(6.37067711),\n",
       "  array(6.35093316),\n",
       "  array(6.32229761),\n",
       "  array(6.29988678),\n",
       "  array(6.33523953),\n",
       "  array(6.32390407),\n",
       "  array(6.2849389),\n",
       "  array(6.27068835),\n",
       "  array(6.29326111),\n",
       "  array(6.30621775),\n",
       "  array(6.26070571),\n",
       "  array(6.25014912),\n",
       "  array(6.21468087),\n",
       "  array(6.26085356),\n",
       "  array(6.23312253),\n",
       "  array(6.23202515),\n",
       "  array(6.26131092),\n",
       "  array(6.26986609),\n",
       "  array(6.22737001),\n",
       "  array(6.23515179),\n",
       "  array(6.24106628),\n",
       "  array(6.26543861),\n",
       "  array(6.25910148),\n",
       "  array(6.22433051),\n",
       "  array(6.23800673),\n",
       "  array(6.24069358)]}"
      ]
     },
     "execution_count": 1481,
     "metadata": {},
     "output_type": "execute_result"
    }
   ],
   "source": [
    "## best hyperparameters for mass dataset\n",
    "\n",
    "# optimiser = 'LBFGS'\n",
    "optimiser = 'Adam' ## adam optimiser tends to be better in my experiments\n",
    "\n",
    "model.fit(\n",
    "    dataset,\n",
    "    opt=optimiser,\n",
    "    steps=100,\n",
    "    lamb=0.01,\n",
    "    loss_fn=CrossEntropyLoss(),\n",
    "    lr=0.01\n",
    ")"
   ]
  },
  {
   "cell_type": "code",
   "execution_count": 1482,
   "id": "aa57f485",
   "metadata": {},
   "outputs": [],
   "source": [
    "## best hyperparameters for calc dataset\n",
    "\n",
    "# # optimiser = 'LBFGS'\n",
    "# optimiser = 'Adam' ## adam optimiser tends to be better in my experiments\n",
    "\n",
    "# model.fit(\n",
    "#     dataset,\n",
    "#     opt=optimiser,\n",
    "#     steps=100,\n",
    "#     lamb=0.01,\n",
    "#     loss_fn=CrossEntropyLoss(),\n",
    "#     lr=0.001\n",
    "# )"
   ]
  },
  {
   "cell_type": "markdown",
   "id": "b16c6c8c",
   "metadata": {},
   "source": [
    "predict"
   ]
  },
  {
   "cell_type": "code",
   "execution_count": 1483,
   "id": "ef24d37b",
   "metadata": {},
   "outputs": [
    {
     "data": {
      "text/plain": [
       "tensor([2, 2, 0, 0, 0, 0, 2, 2, 0, 2, 2, 0, 0, 2, 2, 2, 2, 2, 2, 2, 2, 2, 2, 0,\n",
       "        0, 0, 1, 0, 2, 2, 0, 0, 0, 2, 2, 0, 0, 0, 0, 0, 0, 0, 0, 0, 0, 2, 2, 0,\n",
       "        2, 2, 0, 0, 0, 2, 2, 2, 2, 2, 2, 2, 2, 2, 2, 0, 0, 0, 2, 2, 2, 2, 2, 2,\n",
       "        0, 2, 2, 2, 2, 0, 2, 2, 0, 0, 2, 0, 0, 2, 0, 2, 2, 0, 0, 2, 2, 2, 0, 2,\n",
       "        0, 2, 2, 2, 2, 0, 0, 2, 2, 0, 0, 2, 0, 0, 2, 2, 2, 2, 2, 0, 0, 0, 2, 2,\n",
       "        0, 1, 2, 0, 2, 2, 2, 2, 0, 0, 0, 2, 0, 0, 2, 2, 2, 0, 0, 2, 2, 0, 2, 2,\n",
       "        2, 2, 0, 2, 2, 2, 2, 2, 2, 2, 0, 0, 2, 0, 0, 0, 0, 2, 2, 2, 2, 2, 2, 2,\n",
       "        2, 2, 2, 0, 0, 0, 0, 2, 2, 0, 0, 0, 0, 1, 0, 2, 0, 0, 2, 2, 2, 2, 2, 0,\n",
       "        0, 0, 0, 2, 2, 0, 0, 2, 2, 2, 0, 2, 2, 2, 2, 0, 0, 0, 0, 0, 0, 0, 0, 0,\n",
       "        0, 0, 0, 0, 0, 0, 0, 0, 0, 0, 0, 0, 0, 0, 0, 0, 0, 1, 2, 0, 2, 0, 2, 2,\n",
       "        2, 2, 2, 2, 2, 2, 0, 2, 0, 2, 2, 2, 2, 2, 2, 0, 2, 0, 0, 0, 0, 2, 2, 2,\n",
       "        2, 2, 2, 2, 2, 0, 0, 0, 0, 0, 0, 2, 2, 2, 2, 2, 2, 2, 2, 0, 2, 0, 0, 0,\n",
       "        0, 0, 0, 0, 2, 2, 2, 2, 0, 0, 0, 0, 0, 2, 2, 0, 0, 2, 2, 0, 2, 2, 2, 2,\n",
       "        0, 0, 0, 0, 0, 0, 0, 0, 0, 0, 0, 0, 0, 0, 0, 0, 0, 2, 0, 2, 2, 2, 2, 2,\n",
       "        2, 0, 2, 2, 2, 2, 2, 2, 2, 2, 0, 2, 2, 0, 0, 0, 0, 0, 0, 0, 0, 0, 0, 2,\n",
       "        2, 0, 0, 2, 2, 2, 2, 0, 2, 2, 0, 0, 2, 2, 2, 0, 2, 2, 0, 2, 2, 2, 2, 2],\n",
       "       device='cuda:0')"
      ]
     },
     "execution_count": 1483,
     "metadata": {},
     "output_type": "execute_result"
    }
   ],
   "source": [
    "with torch.no_grad():\n",
    "    logits = model(X_test_tensor)  # raw outputs of shape [batch_size, num_classes]\n",
    "\n",
    "y_pred = torch.argmax(logits, dim=1)  # gives class indices (0, 1, 2)\n",
    "y_pred"
   ]
  },
  {
   "cell_type": "code",
   "execution_count": 1484,
   "id": "e6bba57c",
   "metadata": {},
   "outputs": [
    {
     "data": {
      "text/plain": [
       "tensor([2., 2., 2., 2., 0., 0., 2., 2., 0., 2., 2., 0., 1., 2., 2., 2., 2., 2.,\n",
       "        2., 2., 2., 2., 2., 0., 0., 0., 0., 0., 2., 2., 0., 1., 1., 0., 0., 0.,\n",
       "        0., 0., 0., 0., 0., 0., 0., 0., 0., 0., 0., 0., 2., 2., 2., 2., 1., 1.,\n",
       "        1., 1., 2., 2., 0., 0., 2., 2., 2., 0., 0., 0., 0., 0., 2., 2., 2., 2.,\n",
       "        0., 2., 2., 0., 0., 0., 0., 0., 2., 2., 0., 0., 0., 0., 0., 0., 0., 0.,\n",
       "        0., 0., 0., 1., 1., 0., 0., 0., 0., 0., 0., 0., 0., 2., 2., 0., 0., 0.,\n",
       "        0., 0., 0., 0., 2., 2., 2., 1., 1., 2., 2., 2., 2., 2., 1., 1., 2., 2.,\n",
       "        2., 2., 0., 0., 2., 2., 2., 0., 0., 0., 0., 0., 0., 0., 0., 2., 2., 0.,\n",
       "        2., 2., 0., 2., 0., 0., 0., 0., 2., 2., 0., 0., 0., 0., 0., 2., 2., 2.,\n",
       "        2., 0., 0., 2., 2., 0., 2., 2., 2., 0., 0., 0., 0., 2., 2., 0., 0., 1.,\n",
       "        1., 1., 2., 2., 2., 2., 1., 2., 2., 2., 2., 0., 0., 0., 0., 0., 0., 0.,\n",
       "        0., 2., 2., 2., 2., 2., 2., 2., 2., 2., 0., 0., 0., 0., 0., 0., 0., 0.,\n",
       "        0., 0., 0., 0., 0., 0., 0., 0., 0., 0., 0., 0., 0., 0., 0., 0., 0., 0.,\n",
       "        0., 0., 0., 0., 2., 2., 2., 2., 2., 2., 1., 2., 0., 0., 0., 0., 0., 2.,\n",
       "        2., 2., 2., 2., 2., 0., 0., 0., 0., 0., 0., 2., 2., 2., 2., 2., 2., 0.,\n",
       "        0., 0., 0., 0., 0., 2., 2., 1., 1., 2., 2., 2., 2., 2., 2., 1., 0., 0.,\n",
       "        0., 0., 0., 0., 2., 0., 2., 0., 0., 0., 0., 0., 0., 0., 0., 2., 2., 0.,\n",
       "        0., 2., 2., 0., 2., 2., 0., 0., 0., 0., 0., 0., 0., 0., 0., 0., 0., 0.,\n",
       "        0., 0., 0., 0., 0., 0., 0., 0., 2., 2., 2., 0., 2., 0., 2., 2., 2., 2.,\n",
       "        2., 2., 0., 0., 0., 0., 0., 0., 0., 0., 0., 0., 0., 2., 2., 0., 0., 2.,\n",
       "        2., 0., 0., 2., 2., 2., 0., 0., 0., 0., 0., 0., 2., 2., 0., 0., 2., 2.,\n",
       "        1., 1., 2., 2., 2., 2.], device='cuda:0')"
      ]
     },
     "execution_count": 1484,
     "metadata": {},
     "output_type": "execute_result"
    }
   ],
   "source": [
    "y_test_tensor"
   ]
  },
  {
   "cell_type": "code",
   "execution_count": 1485,
   "id": "c54e4cae",
   "metadata": {},
   "outputs": [
    {
     "name": "stdout",
     "output_type": "stream",
     "text": [
      "Accuracy: 0.6953\n"
     ]
    }
   ],
   "source": [
    "accuracy = (y_pred == y_test_tensor).float().mean().item()\n",
    "print(f\"Accuracy: {accuracy:.4f}\")"
   ]
  },
  {
   "cell_type": "code",
   "execution_count": 1486,
   "id": "1c4edf96",
   "metadata": {},
   "outputs": [
    {
     "name": "stdout",
     "output_type": "stream",
     "text": [
      "Confusion Matrix:\n"
     ]
    },
    {
     "data": {
      "text/plain": [
       "array([[143,   2,  67],\n",
       "       [ 12,   1,  10],\n",
       "       [ 25,   1, 123]], dtype=int64)"
      ]
     },
     "execution_count": 1486,
     "metadata": {},
     "output_type": "execute_result"
    }
   ],
   "source": [
    "y_pred_np = y_pred.cpu().numpy() if hasattr(y_pred, 'cpu') else y_pred\n",
    "y_true_np = y_test_tensor.cpu().numpy() if hasattr(y_test_tensor, 'cpu') else y_test_tensor\n",
    "\n",
    "# Generate confusion matrix\n",
    "cm = confusion_matrix(y_true_np, y_pred_np)\n",
    "\n",
    "print(\"Confusion Matrix:\")\n",
    "cm"
   ]
  }
 ],
 "metadata": {
  "kernelspec": {
   "display_name": "kan",
   "language": "python",
   "name": "python3"
  },
  "language_info": {
   "codemirror_mode": {
    "name": "ipython",
    "version": 3
   },
   "file_extension": ".py",
   "mimetype": "text/x-python",
   "name": "python",
   "nbconvert_exporter": "python",
   "pygments_lexer": "ipython3",
   "version": "3.11.11"
  }
 },
 "nbformat": 4,
 "nbformat_minor": 5
}
