{
 "cells": [
  {
   "cell_type": "code",
   "execution_count": 2,
   "metadata": {},
   "outputs": [
    {
     "ename": "KeyboardInterrupt",
     "evalue": "",
     "output_type": "error",
     "traceback": [
      "\u001b[0;31m---------------------------------------------------------------------------\u001b[0m",
      "\u001b[0;31mKeyboardInterrupt\u001b[0m                         Traceback (most recent call last)",
      "File \u001b[0;32m~/anaconda3/envs/cs4248/lib/python3.12/site-packages/pyreadr/librdata.pyx:229\u001b[0m, in \u001b[0;36mpyreadr.librdata.Parser._Parser__handle_column\u001b[0;34m()\u001b[0m\n",
      "File \u001b[0;32m~/anaconda3/envs/cs4248/lib/python3.12/enum.py:720\u001b[0m, in \u001b[0;36mEnumType.__call__\u001b[0;34m(cls, value, names, module, qualname, type, start, boundary, *values)\u001b[0m\n\u001b[1;32m    715\u001b[0m \u001b[38;5;250m    \u001b[39m\u001b[38;5;124;03m\"\"\"\u001b[39;00m\n\u001b[1;32m    716\u001b[0m \u001b[38;5;124;03m    classes/types should always be True.\u001b[39;00m\n\u001b[1;32m    717\u001b[0m \u001b[38;5;124;03m    \"\"\"\u001b[39;00m\n\u001b[1;32m    718\u001b[0m     \u001b[38;5;28;01mreturn\u001b[39;00m \u001b[38;5;28;01mTrue\u001b[39;00m\n\u001b[0;32m--> 720\u001b[0m \u001b[38;5;28;01mdef\u001b[39;00m\u001b[38;5;250m \u001b[39m\u001b[38;5;21m__call__\u001b[39m(\u001b[38;5;28mcls\u001b[39m, value, names\u001b[38;5;241m=\u001b[39m_not_given, \u001b[38;5;241m*\u001b[39mvalues, module\u001b[38;5;241m=\u001b[39m\u001b[38;5;28;01mNone\u001b[39;00m, qualname\u001b[38;5;241m=\u001b[39m\u001b[38;5;28;01mNone\u001b[39;00m, \u001b[38;5;28mtype\u001b[39m\u001b[38;5;241m=\u001b[39m\u001b[38;5;28;01mNone\u001b[39;00m, start\u001b[38;5;241m=\u001b[39m\u001b[38;5;241m1\u001b[39m, boundary\u001b[38;5;241m=\u001b[39m\u001b[38;5;28;01mNone\u001b[39;00m):\n\u001b[1;32m    721\u001b[0m \u001b[38;5;250m    \u001b[39m\u001b[38;5;124;03m\"\"\"\u001b[39;00m\n\u001b[1;32m    722\u001b[0m \u001b[38;5;124;03m    Either returns an existing member, or creates a new enum class.\u001b[39;00m\n\u001b[1;32m    723\u001b[0m \n\u001b[0;32m   (...)\u001b[0m\n\u001b[1;32m    745\u001b[0m \u001b[38;5;124;03m    `type`, if set, will be mixed in as the first base class.\u001b[39;00m\n\u001b[1;32m    746\u001b[0m \u001b[38;5;124;03m    \"\"\"\u001b[39;00m\n\u001b[1;32m    747\u001b[0m     \u001b[38;5;28;01mif\u001b[39;00m \u001b[38;5;28mcls\u001b[39m\u001b[38;5;241m.\u001b[39m_member_map_:\n\u001b[1;32m    748\u001b[0m         \u001b[38;5;66;03m# simple value lookup if members exist\u001b[39;00m\n",
      "\u001b[0;31mKeyboardInterrupt\u001b[0m: "
     ]
    },
    {
     "name": "stderr",
     "output_type": "stream",
     "text": [
      "Exception ignored in: 'pyreadr.librdata._handle_column'\n",
      "Traceback (most recent call last):\n",
      "  File \"pyreadr/librdata.pyx\", line 229, in pyreadr.librdata.Parser._Parser__handle_column\n",
      "  File \"/Users/pangyen/anaconda3/envs/cs4248/lib/python3.12/enum.py\", line 720, in __call__\n",
      "    def __call__(cls, value, names=_not_given, *values, module=None, qualname=None, type=None, start=1, boundary=None):\n",
      "\n",
      "KeyboardInterrupt: \n"
     ]
    }
   ],
   "source": [
    "import pandas as pd\n",
    "import pyreadr\n",
    "\n",
    "result = pyreadr.read_r(\"data/5v_cleandf.rdata\") # Read .rdata file"
   ]
  },
  {
   "cell_type": "code",
   "execution_count": 4,
   "metadata": {},
   "outputs": [],
   "source": [
    "df = result['df'] # Convert R data to pandas DataFrame\n",
    "\n",
    "df.to_csv('data/5v_cleandf.csv', index=False) # Save DataFrame to .csv file"
   ]
  },
  {
   "cell_type": "code",
   "execution_count": 1,
   "metadata": {},
   "outputs": [
    {
     "ename": "NameError",
     "evalue": "name 'df' is not defined",
     "output_type": "error",
     "traceback": [
      "\u001b[0;31m---------------------------------------------------------------------------\u001b[0m",
      "\u001b[0;31mNameError\u001b[0m                                 Traceback (most recent call last)",
      "Cell \u001b[0;32mIn[1], line 1\u001b[0m\n\u001b[0;32m----> 1\u001b[0m df_truncated \u001b[38;5;241m=\u001b[39m \u001b[43mdf\u001b[49m\u001b[38;5;241m.\u001b[39mhead(\u001b[38;5;241m2000\u001b[39m) \u001b[38;5;66;03m# Truncate DataFrame to 1000 rows\u001b[39;00m\n\u001b[1;32m      2\u001b[0m df_truncated\u001b[38;5;241m.\u001b[39mto_csv(\u001b[38;5;124m'\u001b[39m\u001b[38;5;124mdata/5v_cleandf_truncated.csv\u001b[39m\u001b[38;5;124m'\u001b[39m, index\u001b[38;5;241m=\u001b[39m\u001b[38;5;28;01mFalse\u001b[39;00m) \u001b[38;5;66;03m# Save truncated DataFrame to .csv file\u001b[39;00m\n",
      "\u001b[0;31mNameError\u001b[0m: name 'df' is not defined"
     ]
    }
   ],
   "source": [
    "df_truncated = df.head(5000) # Truncate DataFrame to 1000 rows\n",
    "df_truncated.to_csv('data/5v_cleandf_truncated.csv', index=False) # Save truncated DataFrame to .csv file"
   ]
  },
  {
   "cell_type": "code",
   "execution_count": 1,
   "metadata": {},
   "outputs": [],
   "source": [
    "import pandas as pd\n",
    "\n",
    "df = pd.read_csv('data/5v_cleandf.csv') # Read .csv file\n",
    "df_truncated = df.head(5000) # Truncate DataFrame to 1000 rows\n",
    "df_truncated.to_csv('data/5v_cleandf_truncated.csv', index=False) # Save truncated DataFrame to .csv file"
   ]
  },
  {
   "cell_type": "code",
   "execution_count": 3,
   "metadata": {},
   "outputs": [
    {
     "name": "stdout",
     "output_type": "stream",
     "text": [
      "ESI 1:\n",
      "             count  ratio\n",
      "disposition              \n",
      "Admit         4513  85.62\n",
      "Discharge      758  14.38\n",
      "\n",
      "ESI 2:\n",
      "             count  ratio\n",
      "disposition              \n",
      "Admit        89947   55.0\n",
      "Discharge    73587   45.0\n",
      "\n",
      "ESI 3:\n",
      "              count  ratio\n",
      "disposition               \n",
      "Discharge    167545  70.92\n",
      "Admit         68684  29.08\n",
      "\n",
      "ESI 4:\n",
      "              count  ratio\n",
      "disposition               \n",
      "Discharge    122232  97.78\n",
      "Admit          2771   2.22\n",
      "\n",
      "ESI 5:\n",
      "             count  ratio\n",
      "disposition              \n",
      "Discharge    27885  99.62\n",
      "Admit          107   0.38\n"
     ]
    }
   ],
   "source": [
    "# slice out the esi and disposition columns\n",
    "df_slice_esi = df[[\"esi\", \"disposition\"]]\n",
    "\n",
    "# Function to calculate count and ratio\n",
    "def calculate_count_and_ratio(df, esi_level):\n",
    "    df_filtered = df[df['esi'] == esi_level]\n",
    "    count = df_filtered['disposition'].value_counts()\n",
    "    ratio = count / count.sum()\n",
    "    result_df = pd.DataFrame({'count': count, 'ratio': round(ratio * 100,2)})\n",
    "    return result_df\n",
    "\n",
    "# Apply the function to each ESI level\n",
    "esi_1 = calculate_count_and_ratio(df, 1)\n",
    "esi_2 = calculate_count_and_ratio(df, 2)\n",
    "esi_3 = calculate_count_and_ratio(df, 3)\n",
    "esi_4 = calculate_count_and_ratio(df, 4)\n",
    "esi_5 = calculate_count_and_ratio(df, 5)\n",
    "\n",
    "import pprint\n",
    "\n",
    "# Print the results\n",
    "print(\"ESI 1:\")\n",
    "pprint.pprint(esi_1)\n",
    "print(\"\\nESI 2:\")\n",
    "pprint.pprint(esi_2)\n",
    "print(\"\\nESI 3:\")\n",
    "pprint.pprint(esi_3)\n",
    "print(\"\\nESI 4:\")\n",
    "pprint.pprint(esi_4)\n",
    "print(\"\\nESI 5:\")\n",
    "pprint.pprint(esi_5)"
   ]
  },
  {
   "cell_type": "code",
   "execution_count": 4,
   "metadata": {},
   "outputs": [],
   "source": [
    "\n",
    "df_truncated = df.head(5) # Truncate DataFrame to 1000 rows\n",
    "df_truncated.to_csv('data/5v_cleandf_truncated_5.csv', index=False) # Save truncated DataFrame to .csv file"
   ]
  },
  {
   "cell_type": "code",
   "execution_count": null,
   "metadata": {},
   "outputs": [],
   "source": []
  }
 ],
 "metadata": {
  "kernelspec": {
   "display_name": "cs4248",
   "language": "python",
   "name": "python3"
  },
  "language_info": {
   "codemirror_mode": {
    "name": "ipython",
    "version": 3
   },
   "file_extension": ".py",
   "mimetype": "text/x-python",
   "name": "python",
   "nbconvert_exporter": "python",
   "pygments_lexer": "ipython3",
   "version": "3.12.9"
  }
 },
 "nbformat": 4,
 "nbformat_minor": 2
}
